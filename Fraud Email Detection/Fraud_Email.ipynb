{
 "cells": [
  {
   "cell_type": "markdown",
   "id": "aa1542eb-e11b-41e6-95be-ed3f77f2e5f2",
   "metadata": {},
   "source": [
    "# Fraud Email Detection\n",
    "This project discusses the use of Fraud email detection."
   ]
  },
  {
   "cell_type": "code",
   "execution_count": 50,
   "id": "6b7b8095-4986-419f-b332-87ac4f590677",
   "metadata": {},
   "outputs": [],
   "source": [
    "import re\n",
    "import joblib\n",
    "import pandas as pd\n",
    "import matplotlib.pyplot as plt\n",
    "import seaborn as sns\n",
    "from sklearn.feature_extraction.text import CountVectorizer\n",
    "from sklearn.model_selection import train_test_split\n",
    "from sklearn.naive_bayes import MultinomialNB\n",
    "from sklearn.metrics import accuracy_score"
   ]
  },
  {
   "cell_type": "markdown",
   "id": "49229b4d-472e-48b9-a6eb-b51327037efa",
   "metadata": {},
   "source": [
    "## Preprocessing Data\n",
    "This section discusses the preprocessing of the email text, removing the headers and the unnecessary characters.\n",
    "\n",
    "### Import re\n",
    "https://www.w3schools.com/python/python_regex.asp\n",
    "### x.strip()\n",
    "https://www.w3schools.com/python/ref_string_strip.asp"
   ]
  },
  {
   "cell_type": "code",
   "execution_count": 18,
   "id": "7501cf58-f0cc-46a4-a314-bd85836c082d",
   "metadata": {},
   "outputs": [],
   "source": [
    "def cl_em_text(email_text):\n",
    "    \"\"\"\n",
    "    Cleans the email data text by removing the unnecessary and the headers from the data text\n",
    "    \"\"\"\n",
    "    email_text = re.sub(r'http\\S+', '', email_text) #Removing URLs\n",
    "    email_text = re.sub(r'\\b\\d+\\b', '', email_text) #Removing numbers\n",
    "    email_text = re.sub(r'[^\\w\\s]', '', email_text) #Remove punctuations\n",
    "    email_text = email_text.lower() #Converts to lower\n",
    "    return email_text.strip()"
   ]
  },
  {
   "cell_type": "markdown",
   "id": "8456e312-9046-4190-985b-cb50c3bd0516",
   "metadata": {},
   "source": [
    "## Feature Extraction\n",
    "Now, we would extract features for further processing\n",
    "### sklearn\n",
    "https://scikit-learn.org/stable/index.html\n",
    "### vetorizer\n",
    "\n",
    "### CountVectorizer\n",
    "https://scikit-learn.org/stable/modules/generated/sklearn.feature_extraction.text.CountVectorizer.html"
   ]
  },
  {
   "cell_type": "code",
   "execution_count": 24,
   "id": "93d37710-0f93-4c4d-ab68-11fd8fab7bb3",
   "metadata": {},
   "outputs": [],
   "source": [
    "def extract_features(email_texts):\n",
    "    \"\"\"\n",
    "    Converts emails into numerical features\n",
    "    \"\"\"\n",
    "    vectorizer = CountVectorizer(stop_words = 'english', max_features = 1000)\n",
    "    features = vectorizer.fit_transform(email_texts)\n",
    "    return features, vectorizer"
   ]
  },
  {
   "cell_type": "markdown",
   "id": "3b244bc5-0fe2-4965-bcfa-1e277015105f",
   "metadata": {},
   "source": [
    "## Model training\n",
    "This step would train the model for further classification of spam/not spam emails\n",
    "### Train_Test_Split\n",
    "https://scikit-learn.org/stable/modules/generated/sklearn.model_selection.train_test_split.html\n",
    "### MultinomialNB()\n",
    "https://scikit-learn.org/stable/modules/generated/sklearn.naive_bayes.MultinomialNB.html\n",
    "### Accuracy_Score\n",
    "https://scikit-learn.org/stable/modules/generated/sklearn.metrics.accuracy_score.html\n",
    "### Joblib.dump\n",
    "https://www.geeksforgeeks.org/massively-speed-up-processing-using-joblib-in-python/"
   ]
  },
  {
   "cell_type": "code",
   "execution_count": 33,
   "id": "4588d826-5e55-478c-ad27-f161ebfccff4",
   "metadata": {},
   "outputs": [],
   "source": [
    "def tr_model(features, labels):\n",
    "    \"\"\"\n",
    "    Training the machine learning model for email scam detection\n",
    "    \"\"\"\n",
    "    X_train, X_test, Y_train, Y_test = train_test_split(features, labels, test_size = 0.2, random_state = 42)\n",
    "    model = MultinomialNB()\n",
    "    model.fit(X_train, Y_train)\n",
    "    predictions = model.predict(X_test)\n",
    "    print(f\"Model Accuracy: {accuracy_score(Y_test, predictions)}\")\n",
    "    joblib.dump(model, \"scam_detector_model.pkl\")\n",
    "    return model"
   ]
  },
  {
   "cell_type": "markdown",
   "id": "99062135-5b1b-46bf-a3ba-5e8616f882dd",
   "metadata": {},
   "source": [
    "## Email Scanning\n",
    "After model training, the model would scan emails and load the email scanner model."
   ]
  },
  {
   "cell_type": "code",
   "execution_count": 34,
   "id": "e90640f7-5e6f-4551-a208-f08d236e03c5",
   "metadata": {},
   "outputs": [],
   "source": [
    "def scan_email(email_text, vectorizer, model):\n",
    "    \"\"\"\n",
    "    Scans email and predicts whether its scam or not\n",
    "    \"\"\"\n",
    "    clean_text = cl_em_text(email_text)\n",
    "    features = vectorizer.transform([clean_text])\n",
    "    prediction = model.predict(features)\n",
    "    return \"Scam\" if prediction[0] == 1 else \"Not Scam\""
   ]
  },
  {
   "cell_type": "markdown",
   "id": "5e28d892-28bd-4924-a2ff-bb1140b4be55",
   "metadata": {},
   "source": [
    "## Loading datasets/utils\n",
    "Now, after creating a model, we would add the datasets using pandas\n",
    "\n",
    "### pandas\n",
    "https://www.w3schools.com/python/pandas/default.asp\n",
    "### read_csv\n",
    "https://pandas.pydata.org/pandas-docs/stable/reference/api/pandas.read_csv.html"
   ]
  },
  {
   "cell_type": "code",
   "execution_count": 35,
   "id": "d8cd112b-ec87-4934-87a6-2436d8d3a0cf",
   "metadata": {},
   "outputs": [],
   "source": [
    "def load_datasets(file_path):\n",
    "    \"\"\"\n",
    "    Loads dataset from CSV file\n",
    "    \"\"\"\n",
    "    data = pd.read_csv(file_path)\n",
    "    return data['email_text'], data['labels'] # Columns are assumed to be email_text, label"
   ]
  },
  {
   "cell_type": "markdown",
   "id": "7cfc020b-9a38-46d2-83d3-a0324ae26d51",
   "metadata": {},
   "source": [
    "## Defining main\n",
    "This is the final function, where all the previous models are called and the detection is processed."
   ]
  },
  {
   "cell_type": "code",
   "execution_count": 57,
   "id": "1e4d553a-6e2c-468d-8229-0f15db32fd15",
   "metadata": {},
   "outputs": [],
   "source": [
    "def plot_results(predictions):\n",
    "    # Convert predictions from 'Scam' and 'Not Scam' to 1 and 0\n",
    "    predictions = [1 if pred.lower() == 'scam' else 0 for pred in predictions]\n",
    "    \n",
    "    # Create scatter plot\n",
    "    plt.figure(figsize=(8, 5))\n",
    "    plt.scatter(range(len(predictions)), predictions, color=['red' if pred == 1 else 'green' for pred in predictions], s=100)\n",
    "\n",
    "    # Add labels and title\n",
    "    plt.title(\"Email Spam Classification Results\")\n",
    "    plt.xlabel(\"Email Index\")\n",
    "    plt.ylabel(\"Spam (1) / Not Spam (0)\")\n",
    "    plt.yticks([0, 1], ['Not Spam', 'Spam'])\n",
    "\n",
    "    plt.tight_layout()\n",
    "    plt.show()"
   ]
  },
  {
   "cell_type": "code",
   "execution_count": 58,
   "id": "37a9b55d-be9a-4cf3-b143-8b8c8008a1eb",
   "metadata": {},
   "outputs": [
    {
     "name": "stdout",
     "output_type": "stream",
     "text": [
      "Model Accuracy: 1.0\n"
     ]
    },
    {
     "data": {
      "image/png": "[encoded data removed]",
      "text/plain": [
       "<Figure size 800x500 with 1 Axes>"
      ]
     },
     "metadata": {},
     "output_type": "display_data"
    }
   ],
   "source": [
    "def main():\n",
    "    #Load and Preprocess dataset\n",
    "    email_texts, labels = load_datasets(\"emails.csv\")\n",
    "    email_texts = email_texts.apply(cl_em_text)\n",
    "    #Extracting Features\n",
    "    features, vectorizer = extract_features(email_texts)\n",
    "    #Model Training\n",
    "    model = tr_model(features, labels)\n",
    "    #Test with new email\n",
    "    new_email = [\"You have won $1,000,000! Click here to claim your prize.\",\n",
    "                \"Congratulations! You've won a $1,000 Walmart gift card. Click here to claim your prize now!\",\n",
    "                 \"Urgent: Your bank account has been compromised. Click this link to secure your account immediately.\",\n",
    "                 \"You have been selected for a free iPhone 15! Click below to claim your free gift.\",\n",
    "                 \"Earn $5,000 a week working from home! No experience required. Start today!\",\n",
    "                 \"Your PayPal account has been locked. Verify your identity here to unlock it.\",\n",
    "                 \"Limited time offer: Get a free Rolex watch! Click here to claim yours before it's too late.\",\n",
    "                 \"You have unclaimed Bitcoin worth $10,000! Click here to claim it now.\",\n",
    "                 \"Your Netflix subscription has expired. Update your payment details here to continue streaming.\",\n",
    "                 \"You've been pre-approved for a $50,000 loan at 0% interest. Apply now!\",\n",
    "                 \"Your Amazon order cannot be shipped. Click here to update your payment information.\",\n",
    "                \"Hi John, just checking in to see if you're available for a meeting tomorrow at 10 AM.\",\n",
    "                 \"Your monthly bank statement is now available. Please log in to your account to view it.\",\n",
    "                 \"Thank you for your purchase! Your order #12345 has been shipped and will arrive by Friday.\",\n",
    "                 \"Reminder: Your dentist appointment is scheduled for tomorrow at 3 PM.\",\n",
    "                 \"Hi team, don't forget the project deadline is this Friday. Let's make sure everything is on track.\",\n",
    "                 \"Your flight confirmation: Flight #AA123 from New York to Los Angeles is confirmed for December 15th.\",\n",
    "                 \"Your recent transaction of $50.00 at Starbucks has been processed. Thank you for using your card.\",\n",
    "                 \"Hi Sarah, I wanted to follow up on the email I sent last week. Let me know if you have any questions.\",\n",
    "                 \"Your electricity bill for November is now available. Please pay by December 10th to avoid late fees.\",\n",
    "                 \"Welcome to our newsletter! Here are the latest updates from our team.\"]\n",
    "    predictions = [scan_email(email, vectorizer, model) for email in new_email]\n",
    "    plot_results(predictions)   \n",
    "if __name__ == \"__main__\":\n",
    "        main()"
   ]
  },
  {
   "cell_type": "markdown",
   "id": "f56324a1-355a-420a-ae2f-53cf58466c9d",
   "metadata": {},
   "source": [
    "# Thank you"
   ]
  }
 ],
 "metadata": {
  "kernelspec": {
   "display_name": "Python 3 (ipykernel)",
   "language": "python",
   "name": "python3"
  },
  "language_info": {
   "codemirror_mode": {
    "name": "ipython",
    "version": 3
   },
   "file_extension": ".py",
   "mimetype": "text/x-python",
   "name": "python",
   "nbconvert_exporter": "python",
   "pygments_lexer": "ipython3",
   "version": "3.12.6"
  }
 },
 "nbformat": 4,
 "nbformat_minor": 5
}
