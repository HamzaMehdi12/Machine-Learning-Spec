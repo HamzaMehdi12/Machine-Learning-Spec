{
 "cells": [
  {
   "cell_type": "markdown",
   "id": "aa1542eb-e11b-41e6-95be-ed3f77f2e5f2",
   "metadata": {},
   "source": [
    "# Fraud Email Detection\n",
    "This project discusses the use of Fraud email detection."
   ]
  },
  {
   "cell_type": "code",
   "execution_count": 1,
   "id": "6b7b8095-4986-419f-b332-87ac4f590677",
   "metadata": {},
   "outputs": [],
   "source": [
    "import re\n",
    "import joblib\n",
    "import pandas as pd\n",
    "import matplotlib.pyplot as plt\n",
    "import seaborn as sns\n",
    "import tkinter as tk\n",
    "import PyPDF2\n",
    "import pdfplumber\n",
    "from sklearn.feature_extraction.text import CountVectorizer\n",
    "from sklearn.model_selection import train_test_split\n",
    "from sklearn.naive_bayes import MultinomialNB\n",
    "from sklearn.metrics import accuracy_score\n",
    "from tkinter import scrolledtext, filedialog"
   ]
  },
  {
   "cell_type": "markdown",
   "id": "49229b4d-472e-48b9-a6eb-b51327037efa",
   "metadata": {},
   "source": [
    "## Preprocessing Data\n",
    "This section discusses the preprocessing of the email text, removing the headers and the unnecessary characters.\n",
    "\n",
    "### Import re\n",
    "https://www.w3schools.com/python/python_regex.asp\n",
    "### Import nbformat\n",
    "https://nbformat.readthedocs.io/en/latest/\n",
    "###  Import Tkinter\n",
    "https://docs.python.org/3/library/tkinter.html\n",
    "### import PyPDF2\n",
    "https://pypdf2.readthedocs.io/en/3.x/\n",
    "### Scrolledtext\n",
    "https://docs.python.org/3/library/tkinter.scrolledtext.html\n",
    "### filedialog\n",
    "https://docs.python.org/3/library/dialog.html\n",
    "### pdfplumber\n",
    "https://medium.com/@karthickrajm/how-to-extract-table-from-pdf-using-python-pdfplumber-a2010b184431\n",
    "### x.strip()\n",
    "https://www.w3schools.com/python/ref_string_strip.asp"
   ]
  },
  {
   "cell_type": "code",
   "execution_count": 2,
   "id": "7501cf58-f0cc-46a4-a314-bd85836c082d",
   "metadata": {},
   "outputs": [],
   "source": [
    "def cl_em_text(email_text):\n",
    "    # Remove URLs, numbers, and punctuation\n",
    "    email_text = re.sub(r'http\\S+', '', email_text, flags=re.IGNORECASE)\n",
    "    email_text = re.sub(r'\\b\\d+\\b', '', email_text)\n",
    "    email_text = re.sub(r'[^\\w\\s]', ' ', email_text)  # Replace punctuation with space\n",
    "    # Collapse multiple spaces/newlines\n",
    "    email_text = re.sub(r'\\s+', ' ', email_text)\n",
    "    return email_text.lower().strip()"
   ]
  },
  {
   "cell_type": "markdown",
   "id": "8456e312-9046-4190-985b-cb50c3bd0516",
   "metadata": {},
   "source": [
    "## Feature Extraction\n",
    "Now, we would extract features for further processing\n",
    "### sklearn\n",
    "https://scikit-learn.org/stable/index.html\n",
    "### vetorizer\n",
    "\n",
    "### CountVectorizer\n",
    "https://scikit-learn.org/stable/modules/generated/sklearn.feature_extraction.text.CountVectorizer.html"
   ]
  },
  {
   "cell_type": "code",
   "execution_count": 3,
   "id": "93d37710-0f93-4c4d-ab68-11fd8fab7bb3",
   "metadata": {},
   "outputs": [],
   "source": [
    "def extract_features(email_texts):\n",
    "    \"\"\"\n",
    "    Converts emails into numerical features\n",
    "    \"\"\"\n",
    "    vectorizer = CountVectorizer(stop_words = 'english', max_features = 1000)\n",
    "    features = vectorizer.fit_transform(email_texts)\n",
    "    return features, vectorizer"
   ]
  },
  {
   "cell_type": "markdown",
   "id": "3b244bc5-0fe2-4965-bcfa-1e277015105f",
   "metadata": {},
   "source": [
    "## Model training\n",
    "This step would train the model for further classification of spam/not spam emails\n",
    "### Train_Test_Split\n",
    "https://scikit-learn.org/stable/modules/generated/sklearn.model_selection.train_test_split.html\n",
    "### MultinomialNB()\n",
    "https://scikit-learn.org/stable/modules/generated/sklearn.naive_bayes.MultinomialNB.html\n",
    "### Accuracy_Score\n",
    "https://scikit-learn.org/stable/modules/generated/sklearn.metrics.accuracy_score.html\n",
    "### Joblib.dump\n",
    "https://www.geeksforgeeks.org/massively-speed-up-processing-using-joblib-in-python/"
   ]
  },
  {
   "cell_type": "code",
   "execution_count": 4,
   "id": "4588d826-5e55-478c-ad27-f161ebfccff4",
   "metadata": {},
   "outputs": [],
   "source": [
    "def tr_model(features, labels):\n",
    "    \"\"\"\n",
    "    Training the machine learning model for email scam detection\n",
    "    \"\"\"\n",
    "    X_train, X_test, Y_train, Y_test = train_test_split(features, labels, test_size = 0.2, random_state = 42)\n",
    "    model = MultinomialNB()\n",
    "    model.fit(X_train, Y_train)\n",
    "    predictions = model.predict(X_test)\n",
    "    print(f\"Model Accuracy: {accuracy_score(Y_test, predictions)}\")\n",
    "    joblib.dump(model, \"scam_detector_model.pkl\")\n",
    "    return model"
   ]
  },
  {
   "cell_type": "markdown",
   "id": "99062135-5b1b-46bf-a3ba-5e8616f882dd",
   "metadata": {},
   "source": [
    "## Email Scanning\n",
    "After model training, the model would scan emails and load the email scanner model."
   ]
  },
  {
   "cell_type": "code",
   "execution_count": 5,
   "id": "e90640f7-5e6f-4551-a208-f08d236e03c5",
   "metadata": {},
   "outputs": [],
   "source": [
    "def scan_email(email_text, vectorizer, model):\n",
    "    clean_text = cl_em_text(email_text)\n",
    "    features = vectorizer.transform([clean_text])\n",
    "    prediction = model.predict(features)\n",
    "    return \"Scam\" if prediction[0] == 1 else \"Not Scam\"\n",
    "\n",
    "def classify_email(email_input, result_label, vectorizer, model):\n",
    "    email_text = email_input.get(\"1.0\", tk.END).strip()\n",
    "    if email_text:\n",
    "        result = scan_email(email_text, vectorizer, model)\n",
    "        result_label.config(text=f\"Classification: {result}\")\n",
    "    else:\n",
    "        result_label.config(text=\"Error: No text to classify!\")\n",
    "\n",
    "def open_pdfs(email_input):\n",
    "    file_path = filedialog.askopenfilename(filetypes=[(\"PDF Files\", \"*.pdf\")])\n",
    "    if file_path:\n",
    "        try:\n",
    "            with open(file_path, \"rb\") as file:\n",
    "                reader = PyPDF2.PdfReader(file)\n",
    "                text = \"\"\n",
    "                for page in reader.pages:\n",
    "                    if page.extract_text():  # Corrected method name\n",
    "                        text += page.extract_text() + \"\\n\"  # Add newline between pages\n",
    "                email_input.delete(\"1.0\", tk.END)\n",
    "                email_input.insert(tk.END, text.strip())  # Insert cleaned text\n",
    "        except Exception as e:\n",
    "            print(f\"Error reading PDF: {e}\")"
   ]
  },
  {
   "cell_type": "markdown",
   "id": "5e28d892-28bd-4924-a2ff-bb1140b4be55",
   "metadata": {},
   "source": [
    "## Loading datasets/utils\n",
    "Now, after creating a model, we would add the datasets using pandas\n",
    "\n",
    "### pandas\n",
    "https://www.w3schools.com/python/pandas/default.asp\n",
    "### read_csv\n",
    "https://pandas.pydata.org/pandas-docs/stable/reference/api/pandas.read_csv.html"
   ]
  },
  {
   "cell_type": "code",
   "execution_count": 6,
   "id": "d8cd112b-ec87-4934-87a6-2436d8d3a0cf",
   "metadata": {},
   "outputs": [],
   "source": [
    "def load_dataset(file_path):\n",
    "    \"\"\"\n",
    "    Loads the dataset from a CSV file and extracts emails and labels.\n",
    "    \"\"\"\n",
    "    df = pd.read_csv(file_path)\n",
    "    df.dropna(inplace=True)  # Remove any null values\n",
    "    return df['email_text'], df['labels']"
   ]
  },
  {
   "cell_type": "markdown",
   "id": "7cfc020b-9a38-46d2-83d3-a0324ae26d51",
   "metadata": {},
   "source": [
    "## Defining main\n",
    "This is the final function, where all the previous models are called and the detection is processed."
   ]
  },
  {
   "cell_type": "code",
   "execution_count": 7,
   "id": "1e4d553a-6e2c-468d-8229-0f15db32fd15",
   "metadata": {},
   "outputs": [],
   "source": [
    "def plot_distribution(labels):\n",
    "    \"\"\"\n",
    "    Plots the distribution of scam vs non-scam emails\n",
    "    \"\"\"\n",
    "    plt.figure(figsize=(6, 4))\n",
    "    sns.countplot(x=labels, palette=\"coolwarm\")\n",
    "    plt.title(\"Email Scam vs Non-Scam Distribution\")\n",
    "    plt.xlabel(\"Category\")\n",
    "    plt.ylabel(\"Count\")\n",
    "    plt.show()"
   ]
  },
  {
   "cell_type": "code",
   "execution_count": 8,
   "id": "37a9b55d-be9a-4cf3-b143-8b8c8008a1eb",
   "metadata": {},
   "outputs": [
    {
     "name": "stdout",
     "output_type": "stream",
     "text": [
      "Model Accuracy: 1.0\n"
     ]
    },
    {
     "name": "stderr",
     "output_type": "stream",
     "text": [
      "C:\\Users\\ihpc\\AppData\\Local\\Temp\\ipykernel_4456\\2691758510.py:6: FutureWarning: \n",
      "\n",
      "Passing `palette` without assigning `hue` is deprecated and will be removed in v0.14.0. Assign the `x` variable to `hue` and set `legend=False` for the same effect.\n",
      "\n",
      "  sns.countplot(x=labels, palette=\"coolwarm\")\n"
     ]
    },
    {
     "data": {
      "image/png": "[encoded data removed]",
      "text/plain": [
       "<Figure size 600x400 with 1 Axes>"
      ]
     },
     "metadata": {},
     "output_type": "display_data"
    }
   ],
   "source": [
    "def main():\n",
    "    data_file = \"emails.csv\"\n",
    "    emails, labels = load_dataset(data_file)\n",
    "    features, vectorizer = extract_features(emails)\n",
    "    model = tr_model(features, labels)\n",
    "\n",
    "    top = tk.Tk()\n",
    "    top.title(\"Email Fraud Detector\")\n",
    "\n",
    "    tk.Label(top, text=\"Enter Email Content: \").pack()\n",
    "    email_input = scrolledtext.ScrolledText(top, height=10, width=50)\n",
    "    email_input.pack()\n",
    "\n",
    "    result_label = tk.Label(top, text=\"Classification: \", font=(\"Arial\", 12))\n",
    "    result_label.pack()\n",
    "\n",
    "    # Pass the required variables to the functions using lambda\n",
    "    tk.Button(top, text=\"Classify\", command=lambda: classify_email(email_input, result_label, vectorizer, model)).pack()\n",
    "    tk.Button(top, text=\"Open PDFs\", command=lambda: open_pdfs(email_input)).pack()\n",
    "\n",
    "    top.mainloop()\n",
    "    plot_distribution(labels)\n",
    "\n",
    "if __name__ == \"__main__\":\n",
    "    main()"
   ]
  },
  {
   "cell_type": "markdown",
   "id": "f56324a1-355a-420a-ae2f-53cf58466c9d",
   "metadata": {},
   "source": [
    "# Thank you"
   ]
  }
 ],
 "metadata": {
  "kernelspec": {
   "display_name": "Python 3 (ipykernel)",
   "language": "python",
   "name": "python3"
  },
  "language_info": {
   "codemirror_mode": {
    "name": "ipython",
    "version": 3
   },
   "file_extension": ".py",
   "mimetype": "text/x-python",
   "name": "python",
   "nbconvert_exporter": "python",
   "pygments_lexer": "ipython3",
   "version": "3.12.6"
  }
 },
 "nbformat": 4,
 "nbformat_minor": 5
}
